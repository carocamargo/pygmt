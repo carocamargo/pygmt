{
  "cells": [
    {
      "cell_type": "code",
      "execution_count": null,
      "metadata": {
        "collapsed": false
      },
      "outputs": [],
      "source": [
        "%matplotlib inline"
      ]
    },
    {
      "cell_type": "markdown",
      "metadata": {},
      "source": [
        "\n# Line styles\n\nThe :meth:`pygmt.Figure.plot` method can plot lines in different styles.\nThe default line style is a 0.25-point wide, black, solid line, and can be\ncustomized via the ``pen`` argument.\n\nA *pen* in GMT has three attributes: *width*, *color*, and *style*.\nThe *style* attribute controls the appearance of the line.\nGiving \u201cdotted\u201d or \u201c.\u201d yields a dotted line, whereas a dashed pen is requested\nwith \u201cdashed\u201d or \u201c-\u201d. Also combinations of dots and dashes, like \u201c.-\u201d for a\ndot-dashed line, are allowed.\n\nFor more advanced *pen* attributes, see the GMT cookbook\n:gmt-docs:`cookbook/features.html#wpen-attrib`.\n\n\n"
      ]
    },
    {
      "cell_type": "code",
      "execution_count": null,
      "metadata": {
        "collapsed": false
      },
      "outputs": [],
      "source": [
        "import numpy as np\nimport pygmt\n\n# Generate a sample line for plotting\nx = np.linspace(0, 10, 500)\ny = np.sin(x)\n\nfig = pygmt.Figure()\nfig.basemap(region=[0, 10, -3, 3], projection=\"X15c/8c\", frame=[\"xaf\", \"yaf\", \"WSrt\"])\n\n# Plot the line using the default line style\nfig.plot(x=x, y=y)\n\n# Plot the lines using different line styles\nfig.plot(x=x, y=y + 1.5, pen=\"1p,red,-\")\nfig.plot(x=x, y=y + 1.0, pen=\"2p,blue,.\")\nfig.plot(x=x, y=y + 0.5, pen=\"1p,red,-.\")\n\nfig.plot(x=x, y=y - 0.5, pen=\"2p,blue,..-\")\nfig.plot(x=x, y=y - 1.0, pen=\"3p,tomato,--.\")\nfig.plot(x=x, y=y - 1.5, pen=\"3p,tomato,4_2:2p\")\n\nfig.show()"
      ]
    }
  ],
  "metadata": {
    "kernelspec": {
      "display_name": "Python 3",
      "language": "python",
      "name": "python3"
    },
    "language_info": {
      "codemirror_mode": {
        "name": "ipython",
        "version": 3
      },
      "file_extension": ".py",
      "mimetype": "text/x-python",
      "name": "python",
      "nbconvert_exporter": "python",
      "pygments_lexer": "ipython3",
      "version": "3.6.11"
    }
  },
  "nbformat": 4,
  "nbformat_minor": 0
}